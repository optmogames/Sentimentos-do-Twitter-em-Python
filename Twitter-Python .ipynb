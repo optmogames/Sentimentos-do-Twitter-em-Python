{
 "cells": [
  {
   "cell_type": "markdown",
   "metadata": {},
   "source": [
    "# Install Packages\n",
    "### conda install -c conda-forge tweepy\n",
    "### conda install -c conda-forge textblob"
   ]
  },
  {
   "cell_type": "code",
   "execution_count": 2,
   "metadata": {},
   "outputs": [],
   "source": [
    "from textblob import TextBlob as tb\n",
    "import tweepy\n",
    "import numpy as np"
   ]
  },
  {
   "cell_type": "markdown",
   "metadata": {},
   "source": [
    "# Twitter Apps\n",
    "### https://apps.twitter.com/"
   ]
  },
  {
   "cell_type": "code",
   "execution_count": 3,
   "metadata": {},
   "outputs": [],
   "source": [
    "consumer_key = 'A6OdqwxtRPiC2YAHUCvvMI4GH'\n",
    "consumer_secret = '6kuAZSdWi04EbSQVMgzN4LKxpwRV7LWXS6rFr19AWQ1WcgzxU8'\n",
    "access_token = '71670157-hNvm4Qsm6qBDEpD8KPHLNtf5VtbH4MIVkM6HDo5cV'\n",
    "access_token_secret = '4XJroEn2HKIgnqbSrCeNCW7LRjt0wTQTYcn4SKmvIC1d0'"
   ]
  },
  {
   "cell_type": "code",
   "execution_count": 4,
   "metadata": {},
   "outputs": [],
   "source": [
    "auth = tweepy.OAuthHandler(consumer_key, consumer_secret)\n",
    "auth.set_access_token(access_token, access_token_secret)\n",
    "api = tweepy.API(auth)"
   ]
  },
  {
   "cell_type": "markdown",
   "metadata": {},
   "source": [
    "# Variável que irá armazenar todos os Tweets com a palavra escolhida na função search da API"
   ]
  },
  {
   "cell_type": "code",
   "execution_count": 34,
   "metadata": {},
   "outputs": [],
   "source": [
    "public_tweets = api.search('Super Nintendo')"
   ]
  },
  {
   "cell_type": "markdown",
   "metadata": {},
   "source": [
    "# Variável que irá armazenar as polaridades"
   ]
  },
  {
   "cell_type": "code",
   "execution_count": 13,
   "metadata": {},
   "outputs": [],
   "source": [
    "analysis = None"
   ]
  },
  {
   "cell_type": "markdown",
   "metadata": {},
   "source": [
    "# Laço for para imprimirmos todos os tweets e, em seguida, a polaridade."
   ]
  },
  {
   "cell_type": "code",
   "execution_count": 35,
   "metadata": {},
   "outputs": [
    {
     "name": "stdout",
     "output_type": "stream",
     "text": [
      "O meu #GameStruck4 é composto basicamente de Super Nintendo https://t.co/M64hxWvBfn\n",
      "0.3333333333333333\n",
      "#Super #Mario Bros. - #Classic #SNES #Nintendo #Game - from Super Mario All Stars\n",
      "#Fun way to pass the time and an… https://t.co/et1SdltSJX\n",
      "0.14666666666666667\n",
      "@KFCBarstool TMNT turtles in time (Super Nintendo), Golden eye &amp; Star Fox  (n64) &amp; MW2 (360)\n",
      "0.31666666666666665\n",
      "RT @PlayParisbyPAX: [CONCOURS] Pour finir en beauté dans un esprit rétrogaming avant le festival, notre partenaire E-Concept vous offre 2 E…\n",
      "-0.75\n",
      "Nephews got the new super nintendo. After beating them in street fighter and mario kart, I've been relegated to rea… https://t.co/uLQL5qGLhx\n",
      "0.23484848484848483\n",
      "RT @NintendoAmerica: 26 years ago today Link began his first journey on the Super Nintendo Entertainment System! Talk about a Link to the P…\n",
      "0.3333333333333333\n",
      "RT @Omegachainoboy: Super mario RPG mockup ver02, wip\n",
      "\n",
      "#Nintendo #pixelart #pixel  #art #supermariorpg #videogames #gameart #gamemockup #rp…\n",
      "0.3333333333333333\n",
      "@PokeResort I started playing video games when I was 4 with the NES being the first console; second PS1; third my f… https://t.co/K616MQ9JWG\n",
      "0.08333333333333333\n",
      "RT @Nintenderos: Nintendo Wars@Twitter: Broodals de Super Mario Odyssey: Ronda 1: Enfrentamiento 1: Asalto 2:\n",
      "\n",
      "➡️ RT = Voto para Hariet\n",
      "➡️…\n",
      "0.3333333333333333\n",
      "Super Smash Bros #SoldOutGaming #restock @ GameStop ~Wii U w/GameCube Adapter &amp; Controller Bundle~ https://t.co/GZ8k6yvzsL\n",
      "0.3333333333333333\n",
      "Nintendo Has Released Super Mario Odyssey Hint Art #5 | My Nintendo News https://t.co/cayl5Lmn1y\n",
      "0.3333333333333333\n",
      "RT @Nintenderos: Nintendo Wars@Twitter: Broodals de Super Mario Odyssey: Ronda 1: Enfrentamiento 2: Asalto 1:\n",
      "\n",
      "➡️ RT = Voto para Spewart\n",
      "➡️…\n",
      "0.3333333333333333\n",
      "@Nintendo When is super smash bros for switch coming out can u give me a clue plz\n",
      "0.3333333333333333\n",
      "RT @GDorison: [CONCOURS] Pour fêter PLAY Paris Powered by PAX, E-Concept offre 2 exemplaires de la réédition du très bon (et rare) beat the…\n",
      "-0.225\n",
      "Super Nintendo Entertainment System: Super NES Classic Edition https://t.co/bQZuJsqaY6 https://t.co/F2mi0tK1or\n",
      "0.27777777777777773\n"
     ]
    }
   ],
   "source": [
    "for tweet in public_tweets:\n",
    "    print(tweet.text)\n",
    "    analysis = tb(tweet.text)\n",
    "    print(analysis.sentiment.polarity)"
   ]
  },
  {
   "cell_type": "code",
   "execution_count": 36,
   "metadata": {},
   "outputs": [
    {
     "name": "stdout",
     "output_type": "stream",
     "text": [
      "MÉDIA DE SENTIMENTO: 0.27777777777777773\n"
     ]
    }
   ],
   "source": [
    "print('MÉDIA DE SENTIMENTO: ' + str(np.mean(analysis.sentiment.polarity)))"
   ]
  },
  {
   "cell_type": "code",
   "execution_count": null,
   "metadata": {},
   "outputs": [],
   "source": []
  }
 ],
 "metadata": {
  "kernelspec": {
   "display_name": "Python 3",
   "language": "python",
   "name": "python3"
  },
  "language_info": {
   "codemirror_mode": {
    "name": "ipython",
    "version": 3
   },
   "file_extension": ".py",
   "mimetype": "text/x-python",
   "name": "python",
   "nbconvert_exporter": "python",
   "pygments_lexer": "ipython3",
   "version": "3.6.4"
  }
 },
 "nbformat": 4,
 "nbformat_minor": 2
}
